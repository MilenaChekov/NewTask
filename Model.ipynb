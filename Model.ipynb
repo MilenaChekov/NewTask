{
 "cells": [
  {
   "cell_type": "markdown",
   "metadata": {},
   "source": [
    "# Создайте SolidPython-код, рисующий 3д-модель  #"
   ]
  },
  {
   "cell_type": "markdown",
   "metadata": {},
   "source": [
    "Импортируем библиотеки\n",
    "\n",
    "https://www.openscad.org/ - отсюда скачиваем OpenScad"
   ]
  },
  {
   "cell_type": "code",
   "execution_count": 190,
   "metadata": {},
   "outputs": [],
   "source": [
    "from solid import *\n",
    "from solid.utils import *\n",
    "import viewscad\n",
    "r = viewscad.Renderer(openscad_exec=\"OpenSCAD/openscad.exe\")"
   ]
  },
  {
   "cell_type": "markdown",
   "metadata": {},
   "source": [
    "Создаем составную 3Д модель из геом фигур\n",
    "\n",
    "Также сохраняем трехмерный объект\n",
    "\n",
    "(Можно открыть в OpenScad)"
   ]
  },
  {
   "cell_type": "code",
   "execution_count": 192,
   "metadata": {},
   "outputs": [
    {
     "data": {
      "application/vnd.jupyter.widget-view+json": {
       "model_id": "9fca68111ec94729bc38cabbb2b39494",
       "version_major": 2,
       "version_minor": 0
      },
      "text/plain": [
       "VBox(children=(HTML(value=''), Renderer(background='#cccc88', background_opacity=0.0, camera=PerspectiveCamera…"
      ]
     },
     "metadata": {},
     "output_type": "display_data"
    }
   ],
   "source": [
    "c = (cylinder(r2=5, r1=15, h=20))\n",
    "c += translate ( [0,0,20]) (cylinder(r1=13, r2=8, h=8))\n",
    "c += translate ( [0,0,28]) (cylinder(r1=3, r2=2, h=3))\n",
    "c += translate ( [0,0,34]) (sphere(r=5))\n",
    "d = cylinder(r1=15, r2=12, h=10) - sphere(r=5)\n",
    "d = translate ( [0,0,35]) (cylinder(r1=14, r2=3, h=4))\n",
    "d -= translate ( [0,0,34]) (sphere(5))\n",
    "c += d\n",
    "e = translate ( [0,0,28]) (cylinder(r1=7, r2=5, h=8))\n",
    "e -= translate ( [0,0,34]) (sphere(r=5))\n",
    "e -= translate ( [-5,-2.5,28]) (cube(10))\n",
    "c += e\n",
    "r.render(c, outfile='fun.stl')"
   ]
  }
 ],
 "metadata": {
  "kernelspec": {
   "display_name": "Python 3",
   "language": "python",
   "name": "python3"
  },
  "language_info": {
   "codemirror_mode": {
    "name": "ipython",
    "version": 3
   },
   "file_extension": ".py",
   "mimetype": "text/x-python",
   "name": "python",
   "nbconvert_exporter": "python",
   "pygments_lexer": "ipython3",
   "version": "3.7.4"
  }
 },
 "nbformat": 4,
 "nbformat_minor": 2
}
